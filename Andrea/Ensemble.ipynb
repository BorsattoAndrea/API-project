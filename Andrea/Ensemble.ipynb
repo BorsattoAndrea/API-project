{
  "nbformat": 4,
  "nbformat_minor": 0,
  "metadata": {
    "colab": {
      "provenance": [],
      "authorship_tag": "ABX9TyMU5EN9pPchIklFNjSIp43z",
      "include_colab_link": true
    },
    "kernelspec": {
      "name": "python3",
      "display_name": "Python 3"
    },
    "language_info": {
      "name": "python"
    }
  },
  "cells": [
    {
      "cell_type": "markdown",
      "metadata": {
        "id": "view-in-github",
        "colab_type": "text"
      },
      "source": [
        "<a href=\"https://colab.research.google.com/github/BorsattoAndrea/API-project/blob/main/Andrea/Ensemble.ipynb\" target=\"_parent\"><img src=\"https://colab.research.google.com/assets/colab-badge.svg\" alt=\"Open In Colab\"/></a>"
      ]
    },
    {
      "cell_type": "code",
      "execution_count": null,
      "metadata": {
        "id": "zZo36XkDo4gy"
      },
      "outputs": [],
      "source": [
        "model1 = tf.keras.models.load_model(\"drive/MyDrive/ANNDL1/FullTrainModel1\")\n",
        "model2 = tf.keras.models.load_model(\"drive/MyDrive/ANNDL1/FullTrainModel2\")\n"
      ]
    },
    {
      "cell_type": "code",
      "source": [
        "model1._name=\"convnext1\"\n",
        "model2._name=\"convnext2\""
      ],
      "metadata": {
        "id": "1g0QW72Xpgqg"
      },
      "execution_count": null,
      "outputs": []
    },
    {
      "cell_type": "code",
      "source": [
        "models = [model1, model2]\n",
        "model_input = tf.keras.Input(shape=(96, 96, 3))\n",
        "model_outputs = [model(model_input) for model in models]\n",
        "ensemble_output = tf.keras.layers.Average()(model_outputs)\n",
        "ensemble_model = tf.keras.Model(inputs=model_input, outputs=ensemble_output)"
      ],
      "metadata": {
        "id": "CnuY9YQ1pmPx"
      },
      "execution_count": null,
      "outputs": []
    },
    {
      "cell_type": "code",
      "source": [
        "ensemble_model.save(\"drive/MyDrive/ANNDL1/ensemble\")"
      ],
      "metadata": {
        "id": "c8H96_P2p2gB"
      },
      "execution_count": null,
      "outputs": []
    }
  ]
}